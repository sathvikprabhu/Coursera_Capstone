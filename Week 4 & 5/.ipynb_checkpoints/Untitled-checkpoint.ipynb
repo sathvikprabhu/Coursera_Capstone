{
 "cells": [
  {
   "cell_type": "markdown",
   "id": "b12bd3ce",
   "metadata": {},
   "source": [
    "# Analyzing Neighborhoods in Bengaluru, India to open a shopping mall"
   ]
  },
  {
   "cell_type": "markdown",
   "id": "6798dd8b",
   "metadata": {},
   "source": [
    "## 1. Introduction"
   ]
  },
  {
   "cell_type": "markdown",
   "id": "22643725",
   "metadata": {},
   "source": [
    "Bengaluru, the city that has been adjudged the most livable city in India, is the capital of the Indian State of Karnataka. It is known for its pleasant climate throughout the year. The city hosts numerous prestigious institutions and a large number of Tech Parks.  \n",
    "\n",
    "Being the third most populous city in the country, there is a lot of opportunity for property developers to build a lot more malls in the city. This project intends to find reccomendations for the stakeholders based on the analysis"
   ]
  }
 ],
 "metadata": {
  "kernelspec": {
   "display_name": "Python 3",
   "language": "python",
   "name": "python3"
  },
  "language_info": {
   "codemirror_mode": {
    "name": "ipython",
    "version": 3
   },
   "file_extension": ".py",
   "mimetype": "text/x-python",
   "name": "python",
   "nbconvert_exporter": "python",
   "pygments_lexer": "ipython3",
   "version": "3.8.6rc1"
  }
 },
 "nbformat": 4,
 "nbformat_minor": 5
}
